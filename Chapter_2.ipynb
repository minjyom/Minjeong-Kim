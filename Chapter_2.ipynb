{
  "nbformat": 4,
  "nbformat_minor": 0,
  "metadata": {
    "colab": {
      "name": "Chapter 2.ipynb",
      "provenance": [],
      "authorship_tag": "ABX9TyP4QRx2QDIpIrDn7yUB9dbL",
      "include_colab_link": true
    },
    "kernelspec": {
      "name": "ir",
      "display_name": "R"
    },
    "language_info": {
      "name": "R"
    },
    "gpuClass": "standard"
  },
  "cells": [
    {
      "cell_type": "markdown",
      "metadata": {
        "id": "view-in-github",
        "colab_type": "text"
      },
      "source": [
        "<a href=\"https://colab.research.google.com/github/minjyom/Minjeong-Kim/blob/main/Chapter_2.ipynb\" target=\"_parent\"><img src=\"https://colab.research.google.com/assets/colab-badge.svg\" alt=\"Open In Colab\"/></a>"
      ]
    },
    {
      "cell_type": "code",
      "source": [
        "library(tidyverse)\n",
        "library(tibble)\n",
        "library(readr)\n",
        "library(dplyr)\n",
        "library(magrittr)\n",
        "library(ggplot2)"
      ],
      "metadata": {
        "id": "zWwG1sCVdRv9",
        "colab": {
          "base_uri": "https://localhost:8080/"
        },
        "outputId": "fe4b2d54-29e8-4c90-c322-32b9fc3db3e1"
      },
      "execution_count": 2,
      "outputs": [
        {
          "output_type": "stream",
          "name": "stderr",
          "text": [
            "Warning message in system(\"timedatectl\", intern = TRUE):\n",
            "“running command 'timedatectl' had status 1”\n",
            "── \u001b[1mAttaching packages\u001b[22m ─────────────────────────────────────── tidyverse 1.3.1 ──\n",
            "\n",
            "\u001b[32m✔\u001b[39m \u001b[34mggplot2\u001b[39m 3.3.6     \u001b[32m✔\u001b[39m \u001b[34mpurrr  \u001b[39m 0.3.4\n",
            "\u001b[32m✔\u001b[39m \u001b[34mtibble \u001b[39m 3.1.7     \u001b[32m✔\u001b[39m \u001b[34mdplyr  \u001b[39m 1.0.9\n",
            "\u001b[32m✔\u001b[39m \u001b[34mtidyr  \u001b[39m 1.2.0     \u001b[32m✔\u001b[39m \u001b[34mstringr\u001b[39m 1.4.0\n",
            "\u001b[32m✔\u001b[39m \u001b[34mreadr  \u001b[39m 2.1.2     \u001b[32m✔\u001b[39m \u001b[34mforcats\u001b[39m 0.5.1\n",
            "\n",
            "── \u001b[1mConflicts\u001b[22m ────────────────────────────────────────── tidyverse_conflicts() ──\n",
            "\u001b[31m✖\u001b[39m \u001b[34mdplyr\u001b[39m::\u001b[32mfilter()\u001b[39m masks \u001b[34mstats\u001b[39m::filter()\n",
            "\u001b[31m✖\u001b[39m \u001b[34mdplyr\u001b[39m::\u001b[32mlag()\u001b[39m    masks \u001b[34mstats\u001b[39m::lag()\n",
            "\n",
            "\n",
            "Attaching package: ‘magrittr’\n",
            "\n",
            "\n",
            "The following object is masked from ‘package:purrr’:\n",
            "\n",
            "    set_names\n",
            "\n",
            "\n",
            "The following object is masked from ‘package:tidyr’:\n",
            "\n",
            "    extract\n",
            "\n",
            "\n"
          ]
        }
      ]
    },
    {
      "cell_type": "code",
      "source": [
        "list.files()"
      ],
      "metadata": {
        "id": "O_4SeQjpdXnP",
        "colab": {
          "base_uri": "https://localhost:8080/",
          "height": 86
        },
        "outputId": "d2175573-2378-4fbb-8010-a79638855f7e"
      },
      "execution_count": 7,
      "outputs": [
        {
          "output_type": "display_data",
          "data": {
            "text/html": [
              "<style>\n",
              ".list-inline {list-style: none; margin:0; padding: 0}\n",
              ".list-inline>li {display: inline-block}\n",
              ".list-inline>li:not(:last-child)::after {content: \"\\00b7\"; padding: 0 .5ex}\n",
              "</style>\n",
              "<ol class=list-inline><li>'ELP_frequency.csv'</li><li>'ELP_full_length_frequency.csv'</li><li>'frequency_vowel_duration.csv'</li><li>'hassemer_winter_2016_gesture.csv'</li><li>'lynott_connell_2009_modality.csv'</li><li>'nettle_1999_climate.csv'</li><li>'perry_winter_2017_iconicity.csv'</li><li>'ruth_page_selfies.csv'</li><li>'sample_data'</li><li>'sidhu&amp;pexman_2017_iconicity.csv'</li><li>'speech_errors.csv'</li><li>'strik_lievers_winter_2018_POS.csv'</li><li>'vinson_dale_2014_yelp.csv'</li><li>'warriner_2013_emotional_valence.csv'</li><li>'winter_2016_senses_valence.csv'</li><li>'winter_matlock_2013_similarity.csv'</li><li>'winter_matlock_unpublished_distance.csv'</li></ol>\n"
            ],
            "text/markdown": "1. 'ELP_frequency.csv'\n2. 'ELP_full_length_frequency.csv'\n3. 'frequency_vowel_duration.csv'\n4. 'hassemer_winter_2016_gesture.csv'\n5. 'lynott_connell_2009_modality.csv'\n6. 'nettle_1999_climate.csv'\n7. 'perry_winter_2017_iconicity.csv'\n8. 'ruth_page_selfies.csv'\n9. 'sample_data'\n10. 'sidhu&amp;pexman_2017_iconicity.csv'\n11. 'speech_errors.csv'\n12. 'strik_lievers_winter_2018_POS.csv'\n13. 'vinson_dale_2014_yelp.csv'\n14. 'warriner_2013_emotional_valence.csv'\n15. 'winter_2016_senses_valence.csv'\n16. 'winter_matlock_2013_similarity.csv'\n17. 'winter_matlock_unpublished_distance.csv'\n\n\n",
            "text/latex": "\\begin{enumerate*}\n\\item 'ELP\\_frequency.csv'\n\\item 'ELP\\_full\\_length\\_frequency.csv'\n\\item 'frequency\\_vowel\\_duration.csv'\n\\item 'hassemer\\_winter\\_2016\\_gesture.csv'\n\\item 'lynott\\_connell\\_2009\\_modality.csv'\n\\item 'nettle\\_1999\\_climate.csv'\n\\item 'perry\\_winter\\_2017\\_iconicity.csv'\n\\item 'ruth\\_page\\_selfies.csv'\n\\item 'sample\\_data'\n\\item 'sidhu\\&pexman\\_2017\\_iconicity.csv'\n\\item 'speech\\_errors.csv'\n\\item 'strik\\_lievers\\_winter\\_2018\\_POS.csv'\n\\item 'vinson\\_dale\\_2014\\_yelp.csv'\n\\item 'warriner\\_2013\\_emotional\\_valence.csv'\n\\item 'winter\\_2016\\_senses\\_valence.csv'\n\\item 'winter\\_matlock\\_2013\\_similarity.csv'\n\\item 'winter\\_matlock\\_unpublished\\_distance.csv'\n\\end{enumerate*}\n",
            "text/plain": [
              " [1] \"ELP_frequency.csv\"                      \n",
              " [2] \"ELP_full_length_frequency.csv\"          \n",
              " [3] \"frequency_vowel_duration.csv\"           \n",
              " [4] \"hassemer_winter_2016_gesture.csv\"       \n",
              " [5] \"lynott_connell_2009_modality.csv\"       \n",
              " [6] \"nettle_1999_climate.csv\"                \n",
              " [7] \"perry_winter_2017_iconicity.csv\"        \n",
              " [8] \"ruth_page_selfies.csv\"                  \n",
              " [9] \"sample_data\"                            \n",
              "[10] \"sidhu&pexman_2017_iconicity.csv\"        \n",
              "[11] \"speech_errors.csv\"                      \n",
              "[12] \"strik_lievers_winter_2018_POS.csv\"      \n",
              "[13] \"vinson_dale_2014_yelp.csv\"              \n",
              "[14] \"warriner_2013_emotional_valence.csv\"    \n",
              "[15] \"winter_2016_senses_valence.csv\"         \n",
              "[16] \"winter_matlock_2013_similarity.csv\"     \n",
              "[17] \"winter_matlock_unpublished_distance.csv\""
            ]
          },
          "metadata": {}
        }
      ]
    },
    {
      "cell_type": "markdown",
      "source": [
        "# read.csv() function: \n",
        "it shows factor vectors rather than chr vector. why?"
      ],
      "metadata": {
        "id": "IJcitpbqkmkF"
      }
    },
    {
      "cell_type": "code",
      "source": [
        " nettle <- read.csv('nettle_1999_climate.csv') \n",
        "nettle <- as_tibble(nettle)\n",
        "head(nettle)"
      ],
      "metadata": {
        "id": "3TTyIR8zeHNU",
        "colab": {
          "base_uri": "https://localhost:8080/",
          "height": 286
        },
        "outputId": "8e6c87e0-1895-4f1a-e779-c6a595757346"
      },
      "execution_count": 8,
      "outputs": [
        {
          "output_type": "display_data",
          "data": {
            "text/html": [
              "<table class=\"dataframe\">\n",
              "<caption>A tibble: 6 × 5</caption>\n",
              "<thead>\n",
              "\t<tr><th scope=col>Country</th><th scope=col>Population</th><th scope=col>Area</th><th scope=col>MGS</th><th scope=col>Langs</th></tr>\n",
              "\t<tr><th scope=col>&lt;chr&gt;</th><th scope=col>&lt;dbl&gt;</th><th scope=col>&lt;dbl&gt;</th><th scope=col>&lt;dbl&gt;</th><th scope=col>&lt;int&gt;</th></tr>\n",
              "</thead>\n",
              "<tbody>\n",
              "\t<tr><td>Algeria   </td><td>4.41</td><td>6.38</td><td>6.60</td><td> 18</td></tr>\n",
              "\t<tr><td>Angola    </td><td>4.01</td><td>6.10</td><td>6.22</td><td> 42</td></tr>\n",
              "\t<tr><td>Australia </td><td>4.24</td><td>6.89</td><td>6.00</td><td>234</td></tr>\n",
              "\t<tr><td>Bangladesh</td><td>5.07</td><td>5.16</td><td>7.40</td><td> 37</td></tr>\n",
              "\t<tr><td>Benin     </td><td>3.69</td><td>5.05</td><td>7.14</td><td> 52</td></tr>\n",
              "\t<tr><td>Bolivia   </td><td>3.88</td><td>6.04</td><td>6.92</td><td> 38</td></tr>\n",
              "</tbody>\n",
              "</table>\n"
            ],
            "text/markdown": "\nA tibble: 6 × 5\n\n| Country &lt;chr&gt; | Population &lt;dbl&gt; | Area &lt;dbl&gt; | MGS &lt;dbl&gt; | Langs &lt;int&gt; |\n|---|---|---|---|---|\n| Algeria    | 4.41 | 6.38 | 6.60 |  18 |\n| Angola     | 4.01 | 6.10 | 6.22 |  42 |\n| Australia  | 4.24 | 6.89 | 6.00 | 234 |\n| Bangladesh | 5.07 | 5.16 | 7.40 |  37 |\n| Benin      | 3.69 | 5.05 | 7.14 |  52 |\n| Bolivia    | 3.88 | 6.04 | 6.92 |  38 |\n\n",
            "text/latex": "A tibble: 6 × 5\n\\begin{tabular}{lllll}\n Country & Population & Area & MGS & Langs\\\\\n <chr> & <dbl> & <dbl> & <dbl> & <int>\\\\\n\\hline\n\t Algeria    & 4.41 & 6.38 & 6.60 &  18\\\\\n\t Angola     & 4.01 & 6.10 & 6.22 &  42\\\\\n\t Australia  & 4.24 & 6.89 & 6.00 & 234\\\\\n\t Bangladesh & 5.07 & 5.16 & 7.40 &  37\\\\\n\t Benin      & 3.69 & 5.05 & 7.14 &  52\\\\\n\t Bolivia    & 3.88 & 6.04 & 6.92 &  38\\\\\n\\end{tabular}\n",
            "text/plain": [
              "  Country    Population Area MGS  Langs\n",
              "1 Algeria    4.41       6.38 6.60  18  \n",
              "2 Angola     4.01       6.10 6.22  42  \n",
              "3 Australia  4.24       6.89 6.00 234  \n",
              "4 Bangladesh 5.07       5.16 7.40  37  \n",
              "5 Benin      3.69       5.05 7.14  52  \n",
              "6 Bolivia    3.88       6.04 6.92  38  "
            ]
          },
          "metadata": {}
        }
      ]
    },
    {
      "cell_type": "markdown",
      "source": [
        "# read_csv() function: \n",
        "to use readr package. read_csv() runs faster than read.csv()"
      ],
      "metadata": {
        "id": "XK2jb9lJk0yE"
      }
    },
    {
      "cell_type": "code",
      "source": [
        "nettle <- read_csv('nettle_1999_climate.csv') \n",
        "head(nettle)"
      ],
      "metadata": {
        "id": "UnEgGgWWeRo6",
        "colab": {
          "base_uri": "https://localhost:8080/",
          "height": 433
        },
        "outputId": "1a97e4a6-5b94-4d59-d80b-137925e01074"
      },
      "execution_count": 9,
      "outputs": [
        {
          "output_type": "stream",
          "name": "stderr",
          "text": [
            "\u001b[1mRows: \u001b[22m\u001b[34m74\u001b[39m \u001b[1mColumns: \u001b[22m\u001b[34m5\u001b[39m\n",
            "\u001b[36m──\u001b[39m \u001b[1mColumn specification\u001b[22m \u001b[36m────────────────────────────────────────────────────────\u001b[39m\n",
            "\u001b[1mDelimiter:\u001b[22m \",\"\n",
            "\u001b[31mchr\u001b[39m (1): Country\n",
            "\u001b[32mdbl\u001b[39m (4): Population, Area, MGS, Langs\n",
            "\n",
            "\u001b[36mℹ\u001b[39m Use `spec()` to retrieve the full column specification for this data.\n",
            "\u001b[36mℹ\u001b[39m Specify the column types or set `show_col_types = FALSE` to quiet this message.\n"
          ]
        },
        {
          "output_type": "display_data",
          "data": {
            "text/html": [
              "<table class=\"dataframe\">\n",
              "<caption>A tibble: 6 × 5</caption>\n",
              "<thead>\n",
              "\t<tr><th scope=col>Country</th><th scope=col>Population</th><th scope=col>Area</th><th scope=col>MGS</th><th scope=col>Langs</th></tr>\n",
              "\t<tr><th scope=col>&lt;chr&gt;</th><th scope=col>&lt;dbl&gt;</th><th scope=col>&lt;dbl&gt;</th><th scope=col>&lt;dbl&gt;</th><th scope=col>&lt;dbl&gt;</th></tr>\n",
              "</thead>\n",
              "<tbody>\n",
              "\t<tr><td>Algeria   </td><td>4.41</td><td>6.38</td><td>6.60</td><td> 18</td></tr>\n",
              "\t<tr><td>Angola    </td><td>4.01</td><td>6.10</td><td>6.22</td><td> 42</td></tr>\n",
              "\t<tr><td>Australia </td><td>4.24</td><td>6.89</td><td>6.00</td><td>234</td></tr>\n",
              "\t<tr><td>Bangladesh</td><td>5.07</td><td>5.16</td><td>7.40</td><td> 37</td></tr>\n",
              "\t<tr><td>Benin     </td><td>3.69</td><td>5.05</td><td>7.14</td><td> 52</td></tr>\n",
              "\t<tr><td>Bolivia   </td><td>3.88</td><td>6.04</td><td>6.92</td><td> 38</td></tr>\n",
              "</tbody>\n",
              "</table>\n"
            ],
            "text/markdown": "\nA tibble: 6 × 5\n\n| Country &lt;chr&gt; | Population &lt;dbl&gt; | Area &lt;dbl&gt; | MGS &lt;dbl&gt; | Langs &lt;dbl&gt; |\n|---|---|---|---|---|\n| Algeria    | 4.41 | 6.38 | 6.60 |  18 |\n| Angola     | 4.01 | 6.10 | 6.22 |  42 |\n| Australia  | 4.24 | 6.89 | 6.00 | 234 |\n| Bangladesh | 5.07 | 5.16 | 7.40 |  37 |\n| Benin      | 3.69 | 5.05 | 7.14 |  52 |\n| Bolivia    | 3.88 | 6.04 | 6.92 |  38 |\n\n",
            "text/latex": "A tibble: 6 × 5\n\\begin{tabular}{lllll}\n Country & Population & Area & MGS & Langs\\\\\n <chr> & <dbl> & <dbl> & <dbl> & <dbl>\\\\\n\\hline\n\t Algeria    & 4.41 & 6.38 & 6.60 &  18\\\\\n\t Angola     & 4.01 & 6.10 & 6.22 &  42\\\\\n\t Australia  & 4.24 & 6.89 & 6.00 & 234\\\\\n\t Bangladesh & 5.07 & 5.16 & 7.40 &  37\\\\\n\t Benin      & 3.69 & 5.05 & 7.14 &  52\\\\\n\t Bolivia    & 3.88 & 6.04 & 6.92 &  38\\\\\n\\end{tabular}\n",
            "text/plain": [
              "  Country    Population Area MGS  Langs\n",
              "1 Algeria    4.41       6.38 6.60  18  \n",
              "2 Angola     4.01       6.10 6.22  42  \n",
              "3 Australia  4.24       6.89 6.00 234  \n",
              "4 Bangladesh 5.07       5.16 7.40  37  \n",
              "5 Benin      3.69       5.05 7.14  52  \n",
              "6 Bolivia    3.88       6.04 6.92  38  "
            ]
          },
          "metadata": {}
        }
      ]
    },
    {
      "cell_type": "markdown",
      "source": [
        "# Delim argument:\n",
        "specifies the type of separator"
      ],
      "metadata": {
        "id": "MsSarGCNfLyo"
      }
    },
    {
      "cell_type": "code",
      "source": [
        "x <- read_delim('example_file.txt', delim = '/t')\n",
        "x"
      ],
      "metadata": {
        "id": "O-DJc0nHfRnT",
        "colab": {
          "base_uri": "https://localhost:8080/",
          "height": 1000
        },
        "outputId": "51abf446-e43e-436a-f40b-52cbe436789e"
      },
      "execution_count": 13,
      "outputs": [
        {
          "output_type": "error",
          "ename": "ERROR",
          "evalue": "ignored",
          "traceback": [
            "Error: 'example_file.txt' does not exist in current working directory ('/content').\nTraceback:\n",
            "1. read_delim(\"example_file.txt\", delim = \"/t\")",
            "2. vroom::vroom(file, delim = delim, col_names = col_names, col_types = col_types, \n .     col_select = {\n .         {\n .             col_select\n .         }\n .     }, id = id, .name_repair = name_repair, skip = skip, n_max = n_max, \n .     na = na, quote = quote, comment = comment, skip_empty_rows = skip_empty_rows, \n .     trim_ws = trim_ws, escape_double = escape_double, escape_backslash = escape_backslash, \n .     locale = locale, guess_max = guess_max, progress = progress, \n .     altrep = lazy, show_col_types = show_col_types, num_threads = num_threads)",
            "3. vroom_(file, delim = delim %||% col_types$delim, col_names = col_names, \n .     col_types = col_types, id = id, skip = skip, col_select = col_select, \n .     name_repair = .name_repair, na = na, quote = quote, trim_ws = trim_ws, \n .     escape_double = escape_double, escape_backslash = escape_backslash, \n .     comment = comment, skip_empty_rows = skip_empty_rows, locale = locale, \n .     guess_max = guess_max, n_max = n_max, altrep = vroom_altrep(altrep), \n .     num_threads = num_threads, progress = progress)",
            "4. (function (path, write = FALSE) \n . {\n .     if (is.raw(path)) {\n .         return(rawConnection(path, \"rb\"))\n .     }\n .     if (!is.character(path)) {\n .         return(path)\n .     }\n .     if (is_url(path)) {\n .         if (requireNamespace(\"curl\", quietly = TRUE)) {\n .             con <- curl::curl(path)\n .         }\n .         else {\n .             rlang::inform(\"`curl` package not installed, falling back to using `url()`\")\n .             con <- url(path)\n .         }\n .         ext <- tolower(tools::file_ext(path))\n .         return(switch(ext, zip = , bz2 = , xz = {\n .             close(con)\n .             stop(\"Reading from remote `\", ext, \"` compressed files is not supported,\\n\", \n .                 \"  download the files locally first.\", call. = FALSE)\n .         }, gz = gzcon(con), con))\n .     }\n .     p <- split_path_ext(basename(path))\n .     if (write) {\n .         path <- normalizePath(path, mustWork = FALSE)\n .     }\n .     else {\n .         path <- check_path(path)\n .     }\n .     if (rlang::is_installed(\"archive\")) {\n .         formats <- archive_formats(p$extension)\n .         extension <- p$extension\n .         while (is.null(formats) && nzchar(extension)) {\n .             extension <- split_path_ext(extension)$extension\n .             formats <- archive_formats(extension)\n .         }\n .         if (!is.null(formats)) {\n .             p$extension <- extension\n .             if (write) {\n .                 if (is.null(formats[[1]])) {\n .                   return(archive::file_write(path, filter = formats[[2]]))\n .                 }\n .                 return(archive::archive_write(path, p$path, format = formats[[1]], \n .                   filter = formats[[2]]))\n .             }\n .             if (is.null(formats[[1]])) {\n .                 return(archive::file_read(path, filter = formats[[2]]))\n .             }\n .             return(archive::archive_read(path, format = formats[[1]], \n .                 filter = formats[[2]]))\n .         }\n .     }\n .     if (!write) {\n .         compression <- detect_compression(path)\n .     }\n .     else {\n .         compression <- NA\n .     }\n .     if (is.na(compression)) {\n .         compression <- tools::file_ext(path)\n .     }\n .     if (write && compression == \"zip\") {\n .         stop(\"Can only read from, not write to, .zip\", call. = FALSE)\n .     }\n .     switch(compression, gz = gzfile(path, \"\"), bz2 = bzfile(path, \n .         \"\"), xz = xzfile(path, \"\"), zip = zipfile(path, \"\"), \n .         if (!has_trailing_newline(path)) {\n .             file(path)\n .         } else {\n .             path\n .         })\n . })(\"example_file.txt\")",
            "5. check_path(path)",
            "6. stop(\"'\", path, \"' does not exist\", if (!is_absolute_path(path)) {\n .     paste0(\" in current working directory ('\", getwd(), \"')\")\n . }, \".\", call. = FALSE)"
          ]
        }
      ]
    },
    {
      "cell_type": "markdown",
      "source": [
        "# dplyr package "
      ],
      "metadata": {
        "id": "QaYOF_6CfgAK"
      }
    },
    {
      "cell_type": "markdown",
      "source": [
        "# filter() function \n",
        "to filters \"rows\". \n",
        "- first argument: tibble, second argument: logical statement\n"
      ],
      "metadata": {
        "id": "A7NAB_QvlQd3"
      }
    },
    {
      "cell_type": "code",
      "source": [
        "# reduces the nettlb tibble to only those rows with countries \n",
        "# that have more than 500 languages\n",
        "filter(nettle, Langs > 500)"
      ],
      "metadata": {
        "colab": {
          "base_uri": "https://localhost:8080/",
          "height": 161
        },
        "id": "kjufgT9El0VA",
        "outputId": "a0b12dc1-cf48-4464-8027-7801ad8ee42e"
      },
      "execution_count": 14,
      "outputs": [
        {
          "output_type": "display_data",
          "data": {
            "text/html": [
              "<table class=\"dataframe\">\n",
              "<caption>A spec_tbl_df: 2 × 5</caption>\n",
              "<thead>\n",
              "\t<tr><th scope=col>Country</th><th scope=col>Population</th><th scope=col>Area</th><th scope=col>MGS</th><th scope=col>Langs</th></tr>\n",
              "\t<tr><th scope=col>&lt;chr&gt;</th><th scope=col>&lt;dbl&gt;</th><th scope=col>&lt;dbl&gt;</th><th scope=col>&lt;dbl&gt;</th><th scope=col>&lt;dbl&gt;</th></tr>\n",
              "</thead>\n",
              "<tbody>\n",
              "\t<tr><td>Indonesia       </td><td>5.27</td><td>6.28</td><td>10.67</td><td>701</td></tr>\n",
              "\t<tr><td>Papua New Guinea</td><td>3.58</td><td>5.67</td><td>10.88</td><td>862</td></tr>\n",
              "</tbody>\n",
              "</table>\n"
            ],
            "text/markdown": "\nA spec_tbl_df: 2 × 5\n\n| Country &lt;chr&gt; | Population &lt;dbl&gt; | Area &lt;dbl&gt; | MGS &lt;dbl&gt; | Langs &lt;dbl&gt; |\n|---|---|---|---|---|\n| Indonesia        | 5.27 | 6.28 | 10.67 | 701 |\n| Papua New Guinea | 3.58 | 5.67 | 10.88 | 862 |\n\n",
            "text/latex": "A spec\\_tbl\\_df: 2 × 5\n\\begin{tabular}{lllll}\n Country & Population & Area & MGS & Langs\\\\\n <chr> & <dbl> & <dbl> & <dbl> & <dbl>\\\\\n\\hline\n\t Indonesia        & 5.27 & 6.28 & 10.67 & 701\\\\\n\t Papua New Guinea & 3.58 & 5.67 & 10.88 & 862\\\\\n\\end{tabular}\n",
            "text/plain": [
              "  Country          Population Area MGS   Langs\n",
              "1 Indonesia        5.27       6.28 10.67 701  \n",
              "2 Papua New Guinea 3.58       5.67 10.88 862  "
            ]
          },
          "metadata": {}
        }
      ]
    },
    {
      "cell_type": "code",
      "source": [
        "# may be interested in the data for a specific row, such as Nepal:\n",
        "filter(nettle, Country == 'Nepal')"
      ],
      "metadata": {
        "id": "hrSaowp1f1aD",
        "colab": {
          "base_uri": "https://localhost:8080/",
          "height": 129
        },
        "outputId": "7d9e4ba9-a351-49a7-9343-ba994af6e7e3"
      },
      "execution_count": 15,
      "outputs": [
        {
          "output_type": "display_data",
          "data": {
            "text/html": [
              "<table class=\"dataframe\">\n",
              "<caption>A spec_tbl_df: 1 × 5</caption>\n",
              "<thead>\n",
              "\t<tr><th scope=col>Country</th><th scope=col>Population</th><th scope=col>Area</th><th scope=col>MGS</th><th scope=col>Langs</th></tr>\n",
              "\t<tr><th scope=col>&lt;chr&gt;</th><th scope=col>&lt;dbl&gt;</th><th scope=col>&lt;dbl&gt;</th><th scope=col>&lt;dbl&gt;</th><th scope=col>&lt;dbl&gt;</th></tr>\n",
              "</thead>\n",
              "<tbody>\n",
              "\t<tr><td>Nepal</td><td>4.29</td><td>5.15</td><td>6.39</td><td>102</td></tr>\n",
              "</tbody>\n",
              "</table>\n"
            ],
            "text/markdown": "\nA spec_tbl_df: 1 × 5\n\n| Country &lt;chr&gt; | Population &lt;dbl&gt; | Area &lt;dbl&gt; | MGS &lt;dbl&gt; | Langs &lt;dbl&gt; |\n|---|---|---|---|---|\n| Nepal | 4.29 | 5.15 | 6.39 | 102 |\n\n",
            "text/latex": "A spec\\_tbl\\_df: 1 × 5\n\\begin{tabular}{lllll}\n Country & Population & Area & MGS & Langs\\\\\n <chr> & <dbl> & <dbl> & <dbl> & <dbl>\\\\\n\\hline\n\t Nepal & 4.29 & 5.15 & 6.39 & 102\\\\\n\\end{tabular}\n",
            "text/plain": [
              "  Country Population Area MGS  Langs\n",
              "1 Nepal   4.29       5.15 6.39 102  "
            ]
          },
          "metadata": {}
        }
      ]
    },
    {
      "cell_type": "markdown",
      "source": [
        "# Select() function: \n",
        "to select \"columns\" "
      ],
      "metadata": {
        "id": "pzXqGYZKf8MQ"
      }
    },
    {
      "cell_type": "code",
      "source": [
        "# to select Langs and Country columns\n",
        "select (nettle, Langs, Country)"
      ],
      "metadata": {
        "id": "6u_uef51gAiX",
        "colab": {
          "base_uri": "https://localhost:8080/",
          "height": 1000
        },
        "outputId": "33cc9640-efed-421c-91ba-07597e61adf2"
      },
      "execution_count": 16,
      "outputs": [
        {
          "output_type": "display_data",
          "data": {
            "text/html": [
              "<table class=\"dataframe\">\n",
              "<caption>A tibble: 74 × 2</caption>\n",
              "<thead>\n",
              "\t<tr><th scope=col>Langs</th><th scope=col>Country</th></tr>\n",
              "\t<tr><th scope=col>&lt;dbl&gt;</th><th scope=col>&lt;chr&gt;</th></tr>\n",
              "</thead>\n",
              "<tbody>\n",
              "\t<tr><td> 18</td><td>Algeria      </td></tr>\n",
              "\t<tr><td> 42</td><td>Angola       </td></tr>\n",
              "\t<tr><td>234</td><td>Australia    </td></tr>\n",
              "\t<tr><td> 37</td><td>Bangladesh   </td></tr>\n",
              "\t<tr><td> 52</td><td>Benin        </td></tr>\n",
              "\t<tr><td> 38</td><td>Bolivia      </td></tr>\n",
              "\t<tr><td> 27</td><td>Botswana     </td></tr>\n",
              "\t<tr><td>209</td><td>Brazil       </td></tr>\n",
              "\t<tr><td> 75</td><td>Burkina Faso </td></tr>\n",
              "\t<tr><td> 94</td><td>CAR          </td></tr>\n",
              "\t<tr><td> 18</td><td>Cambodia     </td></tr>\n",
              "\t<tr><td>275</td><td>Cameroon     </td></tr>\n",
              "\t<tr><td>126</td><td>Chad         </td></tr>\n",
              "\t<tr><td> 79</td><td>Colombia     </td></tr>\n",
              "\t<tr><td> 60</td><td>Congo        </td></tr>\n",
              "\t<tr><td> 10</td><td>Costa Rica   </td></tr>\n",
              "\t<tr><td> 75</td><td>Cote d'Ivoire</td></tr>\n",
              "\t<tr><td>  1</td><td>Cuba         </td></tr>\n",
              "\t<tr><td> 22</td><td>Ecuador      </td></tr>\n",
              "\t<tr><td> 11</td><td>Egypt        </td></tr>\n",
              "\t<tr><td>112</td><td>Ethiopia     </td></tr>\n",
              "\t<tr><td> 11</td><td>French Guiana</td></tr>\n",
              "\t<tr><td> 40</td><td>Gabon        </td></tr>\n",
              "\t<tr><td> 73</td><td>Ghana        </td></tr>\n",
              "\t<tr><td> 52</td><td>Guatemala    </td></tr>\n",
              "\t<tr><td> 29</td><td>Guinea       </td></tr>\n",
              "\t<tr><td> 14</td><td>Guyana       </td></tr>\n",
              "\t<tr><td>  9</td><td>Honduras     </td></tr>\n",
              "\t<tr><td>405</td><td>India        </td></tr>\n",
              "\t<tr><td>701</td><td>Indonesia    </td></tr>\n",
              "\t<tr><td>⋮</td><td>⋮</td></tr>\n",
              "\t<tr><td>  7</td><td>Nicaragua       </td></tr>\n",
              "\t<tr><td> 21</td><td>Niger           </td></tr>\n",
              "\t<tr><td>427</td><td>Nigeria         </td></tr>\n",
              "\t<tr><td>  8</td><td>Oman            </td></tr>\n",
              "\t<tr><td> 13</td><td>Panama          </td></tr>\n",
              "\t<tr><td>862</td><td>Papua New Guinea</td></tr>\n",
              "\t<tr><td> 21</td><td>Paraguay        </td></tr>\n",
              "\t<tr><td> 91</td><td>Peru            </td></tr>\n",
              "\t<tr><td>168</td><td>Philippines     </td></tr>\n",
              "\t<tr><td>  8</td><td>Saudi Arabia    </td></tr>\n",
              "\t<tr><td> 42</td><td>Senegal         </td></tr>\n",
              "\t<tr><td> 23</td><td>Sierra Leone    </td></tr>\n",
              "\t<tr><td> 66</td><td>Solomon Islands </td></tr>\n",
              "\t<tr><td> 14</td><td>Somalia         </td></tr>\n",
              "\t<tr><td> 32</td><td>South Africa    </td></tr>\n",
              "\t<tr><td>  7</td><td>Sri Lanka       </td></tr>\n",
              "\t<tr><td>134</td><td>Sudan           </td></tr>\n",
              "\t<tr><td> 17</td><td>Suriname        </td></tr>\n",
              "\t<tr><td>131</td><td>Tanzania        </td></tr>\n",
              "\t<tr><td> 82</td><td>Thailand        </td></tr>\n",
              "\t<tr><td> 43</td><td>Togo            </td></tr>\n",
              "\t<tr><td>  9</td><td>UAE             </td></tr>\n",
              "\t<tr><td> 43</td><td>Uganda          </td></tr>\n",
              "\t<tr><td>111</td><td>Vanuatu         </td></tr>\n",
              "\t<tr><td> 40</td><td>Venezuela       </td></tr>\n",
              "\t<tr><td> 88</td><td>Vietnam         </td></tr>\n",
              "\t<tr><td>  6</td><td>Yemen           </td></tr>\n",
              "\t<tr><td>219</td><td>Zaire           </td></tr>\n",
              "\t<tr><td> 38</td><td>Zambia          </td></tr>\n",
              "\t<tr><td> 18</td><td>Zimbabwe        </td></tr>\n",
              "</tbody>\n",
              "</table>\n"
            ],
            "text/markdown": "\nA tibble: 74 × 2\n\n| Langs &lt;dbl&gt; | Country &lt;chr&gt; |\n|---|---|\n|  18 | Algeria       |\n|  42 | Angola        |\n| 234 | Australia     |\n|  37 | Bangladesh    |\n|  52 | Benin         |\n|  38 | Bolivia       |\n|  27 | Botswana      |\n| 209 | Brazil        |\n|  75 | Burkina Faso  |\n|  94 | CAR           |\n|  18 | Cambodia      |\n| 275 | Cameroon      |\n| 126 | Chad          |\n|  79 | Colombia      |\n|  60 | Congo         |\n|  10 | Costa Rica    |\n|  75 | Cote d'Ivoire |\n|   1 | Cuba          |\n|  22 | Ecuador       |\n|  11 | Egypt         |\n| 112 | Ethiopia      |\n|  11 | French Guiana |\n|  40 | Gabon         |\n|  73 | Ghana         |\n|  52 | Guatemala     |\n|  29 | Guinea        |\n|  14 | Guyana        |\n|   9 | Honduras      |\n| 405 | India         |\n| 701 | Indonesia     |\n| ⋮ | ⋮ |\n|   7 | Nicaragua        |\n|  21 | Niger            |\n| 427 | Nigeria          |\n|   8 | Oman             |\n|  13 | Panama           |\n| 862 | Papua New Guinea |\n|  21 | Paraguay         |\n|  91 | Peru             |\n| 168 | Philippines      |\n|   8 | Saudi Arabia     |\n|  42 | Senegal          |\n|  23 | Sierra Leone     |\n|  66 | Solomon Islands  |\n|  14 | Somalia          |\n|  32 | South Africa     |\n|   7 | Sri Lanka        |\n| 134 | Sudan            |\n|  17 | Suriname         |\n| 131 | Tanzania         |\n|  82 | Thailand         |\n|  43 | Togo             |\n|   9 | UAE              |\n|  43 | Uganda           |\n| 111 | Vanuatu          |\n|  40 | Venezuela        |\n|  88 | Vietnam          |\n|   6 | Yemen            |\n| 219 | Zaire            |\n|  38 | Zambia           |\n|  18 | Zimbabwe         |\n\n",
            "text/latex": "A tibble: 74 × 2\n\\begin{tabular}{ll}\n Langs & Country\\\\\n <dbl> & <chr>\\\\\n\\hline\n\t  18 & Algeria      \\\\\n\t  42 & Angola       \\\\\n\t 234 & Australia    \\\\\n\t  37 & Bangladesh   \\\\\n\t  52 & Benin        \\\\\n\t  38 & Bolivia      \\\\\n\t  27 & Botswana     \\\\\n\t 209 & Brazil       \\\\\n\t  75 & Burkina Faso \\\\\n\t  94 & CAR          \\\\\n\t  18 & Cambodia     \\\\\n\t 275 & Cameroon     \\\\\n\t 126 & Chad         \\\\\n\t  79 & Colombia     \\\\\n\t  60 & Congo        \\\\\n\t  10 & Costa Rica   \\\\\n\t  75 & Cote d'Ivoire\\\\\n\t   1 & Cuba         \\\\\n\t  22 & Ecuador      \\\\\n\t  11 & Egypt        \\\\\n\t 112 & Ethiopia     \\\\\n\t  11 & French Guiana\\\\\n\t  40 & Gabon        \\\\\n\t  73 & Ghana        \\\\\n\t  52 & Guatemala    \\\\\n\t  29 & Guinea       \\\\\n\t  14 & Guyana       \\\\\n\t   9 & Honduras     \\\\\n\t 405 & India        \\\\\n\t 701 & Indonesia    \\\\\n\t ⋮ & ⋮\\\\\n\t   7 & Nicaragua       \\\\\n\t  21 & Niger           \\\\\n\t 427 & Nigeria         \\\\\n\t   8 & Oman            \\\\\n\t  13 & Panama          \\\\\n\t 862 & Papua New Guinea\\\\\n\t  21 & Paraguay        \\\\\n\t  91 & Peru            \\\\\n\t 168 & Philippines     \\\\\n\t   8 & Saudi Arabia    \\\\\n\t  42 & Senegal         \\\\\n\t  23 & Sierra Leone    \\\\\n\t  66 & Solomon Islands \\\\\n\t  14 & Somalia         \\\\\n\t  32 & South Africa    \\\\\n\t   7 & Sri Lanka       \\\\\n\t 134 & Sudan           \\\\\n\t  17 & Suriname        \\\\\n\t 131 & Tanzania        \\\\\n\t  82 & Thailand        \\\\\n\t  43 & Togo            \\\\\n\t   9 & UAE             \\\\\n\t  43 & Uganda          \\\\\n\t 111 & Vanuatu         \\\\\n\t  40 & Venezuela       \\\\\n\t  88 & Vietnam         \\\\\n\t   6 & Yemen           \\\\\n\t 219 & Zaire           \\\\\n\t  38 & Zambia          \\\\\n\t  18 & Zimbabwe        \\\\\n\\end{tabular}\n",
            "text/plain": [
              "   Langs Country         \n",
              "1   18   Algeria         \n",
              "2   42   Angola          \n",
              "3  234   Australia       \n",
              "4   37   Bangladesh      \n",
              "5   52   Benin           \n",
              "6   38   Bolivia         \n",
              "7   27   Botswana        \n",
              "8  209   Brazil          \n",
              "9   75   Burkina Faso    \n",
              "10  94   CAR             \n",
              "11  18   Cambodia        \n",
              "12 275   Cameroon        \n",
              "13 126   Chad            \n",
              "14  79   Colombia        \n",
              "15  60   Congo           \n",
              "16  10   Costa Rica      \n",
              "17  75   Cote d'Ivoire   \n",
              "18   1   Cuba            \n",
              "19  22   Ecuador         \n",
              "20  11   Egypt           \n",
              "21 112   Ethiopia        \n",
              "22  11   French Guiana   \n",
              "23  40   Gabon           \n",
              "24  73   Ghana           \n",
              "25  52   Guatemala       \n",
              "26  29   Guinea          \n",
              "27  14   Guyana          \n",
              "28   9   Honduras        \n",
              "29 405   India           \n",
              "30 701   Indonesia       \n",
              "⋮  ⋮     ⋮               \n",
              "45   7   Nicaragua       \n",
              "46  21   Niger           \n",
              "47 427   Nigeria         \n",
              "48   8   Oman            \n",
              "49  13   Panama          \n",
              "50 862   Papua New Guinea\n",
              "51  21   Paraguay        \n",
              "52  91   Peru            \n",
              "53 168   Philippines     \n",
              "54   8   Saudi Arabia    \n",
              "55  42   Senegal         \n",
              "56  23   Sierra Leone    \n",
              "57  66   Solomon Islands \n",
              "58  14   Somalia         \n",
              "59  32   South Africa    \n",
              "60   7   Sri Lanka       \n",
              "61 134   Sudan           \n",
              "62  17   Suriname        \n",
              "63 131   Tanzania        \n",
              "64  82   Thailand        \n",
              "65  43   Togo            \n",
              "66   9   UAE             \n",
              "67  43   Uganda          \n",
              "68 111   Vanuatu         \n",
              "69  40   Venezuela       \n",
              "70  88   Vietnam         \n",
              "71   6   Yemen           \n",
              "72 219   Zaire           \n",
              "73  38   Zambia          \n",
              "74  18   Zimbabwe        "
            ]
          },
          "metadata": {}
        }
      ]
    },
    {
      "cell_type": "code",
      "source": [
        "# to remove a certain column\n",
        "select (nettle, -Country)"
      ],
      "metadata": {
        "id": "E5dDy1DigDs8",
        "colab": {
          "base_uri": "https://localhost:8080/",
          "height": 1000
        },
        "outputId": "a0fa33f2-2435-4d75-c985-362a180c6e51"
      },
      "execution_count": 17,
      "outputs": [
        {
          "output_type": "display_data",
          "data": {
            "text/html": [
              "<table class=\"dataframe\">\n",
              "<caption>A tibble: 74 × 4</caption>\n",
              "<thead>\n",
              "\t<tr><th scope=col>Population</th><th scope=col>Area</th><th scope=col>MGS</th><th scope=col>Langs</th></tr>\n",
              "\t<tr><th scope=col>&lt;dbl&gt;</th><th scope=col>&lt;dbl&gt;</th><th scope=col>&lt;dbl&gt;</th><th scope=col>&lt;dbl&gt;</th></tr>\n",
              "</thead>\n",
              "<tbody>\n",
              "\t<tr><td>4.41</td><td>6.38</td><td> 6.60</td><td> 18</td></tr>\n",
              "\t<tr><td>4.01</td><td>6.10</td><td> 6.22</td><td> 42</td></tr>\n",
              "\t<tr><td>4.24</td><td>6.89</td><td> 6.00</td><td>234</td></tr>\n",
              "\t<tr><td>5.07</td><td>5.16</td><td> 7.40</td><td> 37</td></tr>\n",
              "\t<tr><td>3.69</td><td>5.05</td><td> 7.14</td><td> 52</td></tr>\n",
              "\t<tr><td>3.88</td><td>6.04</td><td> 6.92</td><td> 38</td></tr>\n",
              "\t<tr><td>3.13</td><td>5.76</td><td> 4.60</td><td> 27</td></tr>\n",
              "\t<tr><td>5.19</td><td>6.93</td><td> 9.71</td><td>209</td></tr>\n",
              "\t<tr><td>3.97</td><td>5.44</td><td> 5.17</td><td> 75</td></tr>\n",
              "\t<tr><td>3.50</td><td>5.79</td><td> 8.08</td><td> 94</td></tr>\n",
              "\t<tr><td>3.93</td><td>5.26</td><td> 8.44</td><td> 18</td></tr>\n",
              "\t<tr><td>4.09</td><td>5.68</td><td> 9.17</td><td>275</td></tr>\n",
              "\t<tr><td>3.76</td><td>6.11</td><td> 4.00</td><td>126</td></tr>\n",
              "\t<tr><td>4.53</td><td>6.06</td><td>11.37</td><td> 79</td></tr>\n",
              "\t<tr><td>3.37</td><td>5.53</td><td> 9.60</td><td> 60</td></tr>\n",
              "\t<tr><td>3.49</td><td>4.71</td><td> 8.92</td><td> 10</td></tr>\n",
              "\t<tr><td>4.10</td><td>5.51</td><td> 8.67</td><td> 75</td></tr>\n",
              "\t<tr><td>4.03</td><td>5.04</td><td> 7.46</td><td>  1</td></tr>\n",
              "\t<tr><td>4.04</td><td>5.45</td><td> 8.14</td><td> 22</td></tr>\n",
              "\t<tr><td>4.74</td><td>6.00</td><td> 0.89</td><td> 11</td></tr>\n",
              "\t<tr><td>4.73</td><td>6.09</td><td> 7.28</td><td>112</td></tr>\n",
              "\t<tr><td>2.01</td><td>4.95</td><td>10.40</td><td> 11</td></tr>\n",
              "\t<tr><td>3.08</td><td>5.43</td><td> 8.79</td><td> 40</td></tr>\n",
              "\t<tr><td>4.19</td><td>5.38</td><td> 8.79</td><td> 73</td></tr>\n",
              "\t<tr><td>3.98</td><td>5.04</td><td> 9.31</td><td> 52</td></tr>\n",
              "\t<tr><td>3.77</td><td>5.39</td><td> 7.38</td><td> 29</td></tr>\n",
              "\t<tr><td>2.90</td><td>5.33</td><td>12.00</td><td> 14</td></tr>\n",
              "\t<tr><td>3.72</td><td>5.05</td><td> 8.54</td><td>  9</td></tr>\n",
              "\t<tr><td>5.93</td><td>6.52</td><td> 5.32</td><td>405</td></tr>\n",
              "\t<tr><td>5.27</td><td>6.28</td><td>10.67</td><td>701</td></tr>\n",
              "\t<tr><td>⋮</td><td>⋮</td><td>⋮</td><td>⋮</td></tr>\n",
              "\t<tr><td>3.60</td><td>5.11</td><td> 8.13</td><td>  7</td></tr>\n",
              "\t<tr><td>3.90</td><td>6.10</td><td> 2.40</td><td> 21</td></tr>\n",
              "\t<tr><td>5.05</td><td>5.97</td><td> 7.00</td><td>427</td></tr>\n",
              "\t<tr><td>3.19</td><td>5.33</td><td> 0.00</td><td>  8</td></tr>\n",
              "\t<tr><td>3.39</td><td>4.88</td><td> 9.20</td><td> 13</td></tr>\n",
              "\t<tr><td>3.58</td><td>5.67</td><td>10.88</td><td>862</td></tr>\n",
              "\t<tr><td>3.64</td><td>5.61</td><td>10.25</td><td> 21</td></tr>\n",
              "\t<tr><td>4.34</td><td>6.11</td><td> 2.65</td><td> 91</td></tr>\n",
              "\t<tr><td>4.80</td><td>5.48</td><td>10.34</td><td>168</td></tr>\n",
              "\t<tr><td>4.17</td><td>6.33</td><td> 0.40</td><td>  8</td></tr>\n",
              "\t<tr><td>3.88</td><td>5.29</td><td> 3.58</td><td> 42</td></tr>\n",
              "\t<tr><td>3.63</td><td>4.86</td><td> 8.22</td><td> 23</td></tr>\n",
              "\t<tr><td>3.52</td><td>4.46</td><td>12.00</td><td> 66</td></tr>\n",
              "\t<tr><td>3.89</td><td>5.80</td><td> 3.00</td><td> 14</td></tr>\n",
              "\t<tr><td>4.56</td><td>6.09</td><td> 6.05</td><td> 32</td></tr>\n",
              "\t<tr><td>4.24</td><td>4.82</td><td> 9.59</td><td>  7</td></tr>\n",
              "\t<tr><td>4.41</td><td>6.40</td><td> 4.02</td><td>134</td></tr>\n",
              "\t<tr><td>2.63</td><td>5.21</td><td>12.00</td><td> 17</td></tr>\n",
              "\t<tr><td>4.45</td><td>5.98</td><td> 7.02</td><td>131</td></tr>\n",
              "\t<tr><td>4.75</td><td>5.71</td><td> 8.04</td><td> 82</td></tr>\n",
              "\t<tr><td>3.56</td><td>4.75</td><td> 7.91</td><td> 43</td></tr>\n",
              "\t<tr><td>3.21</td><td>4.92</td><td> 0.83</td><td>  9</td></tr>\n",
              "\t<tr><td>4.29</td><td>5.37</td><td>10.14</td><td> 43</td></tr>\n",
              "\t<tr><td>2.21</td><td>4.09</td><td>12.00</td><td>111</td></tr>\n",
              "\t<tr><td>4.31</td><td>5.96</td><td> 7.98</td><td> 40</td></tr>\n",
              "\t<tr><td>4.83</td><td>5.52</td><td> 8.80</td><td> 88</td></tr>\n",
              "\t<tr><td>4.09</td><td>5.72</td><td> 0.00</td><td>  6</td></tr>\n",
              "\t<tr><td>4.56</td><td>6.37</td><td> 9.44</td><td>219</td></tr>\n",
              "\t<tr><td>3.94</td><td>5.88</td><td> 5.43</td><td> 38</td></tr>\n",
              "\t<tr><td>4.00</td><td>5.59</td><td> 5.29</td><td> 18</td></tr>\n",
              "</tbody>\n",
              "</table>\n"
            ],
            "text/markdown": "\nA tibble: 74 × 4\n\n| Population &lt;dbl&gt; | Area &lt;dbl&gt; | MGS &lt;dbl&gt; | Langs &lt;dbl&gt; |\n|---|---|---|---|\n| 4.41 | 6.38 |  6.60 |  18 |\n| 4.01 | 6.10 |  6.22 |  42 |\n| 4.24 | 6.89 |  6.00 | 234 |\n| 5.07 | 5.16 |  7.40 |  37 |\n| 3.69 | 5.05 |  7.14 |  52 |\n| 3.88 | 6.04 |  6.92 |  38 |\n| 3.13 | 5.76 |  4.60 |  27 |\n| 5.19 | 6.93 |  9.71 | 209 |\n| 3.97 | 5.44 |  5.17 |  75 |\n| 3.50 | 5.79 |  8.08 |  94 |\n| 3.93 | 5.26 |  8.44 |  18 |\n| 4.09 | 5.68 |  9.17 | 275 |\n| 3.76 | 6.11 |  4.00 | 126 |\n| 4.53 | 6.06 | 11.37 |  79 |\n| 3.37 | 5.53 |  9.60 |  60 |\n| 3.49 | 4.71 |  8.92 |  10 |\n| 4.10 | 5.51 |  8.67 |  75 |\n| 4.03 | 5.04 |  7.46 |   1 |\n| 4.04 | 5.45 |  8.14 |  22 |\n| 4.74 | 6.00 |  0.89 |  11 |\n| 4.73 | 6.09 |  7.28 | 112 |\n| 2.01 | 4.95 | 10.40 |  11 |\n| 3.08 | 5.43 |  8.79 |  40 |\n| 4.19 | 5.38 |  8.79 |  73 |\n| 3.98 | 5.04 |  9.31 |  52 |\n| 3.77 | 5.39 |  7.38 |  29 |\n| 2.90 | 5.33 | 12.00 |  14 |\n| 3.72 | 5.05 |  8.54 |   9 |\n| 5.93 | 6.52 |  5.32 | 405 |\n| 5.27 | 6.28 | 10.67 | 701 |\n| ⋮ | ⋮ | ⋮ | ⋮ |\n| 3.60 | 5.11 |  8.13 |   7 |\n| 3.90 | 6.10 |  2.40 |  21 |\n| 5.05 | 5.97 |  7.00 | 427 |\n| 3.19 | 5.33 |  0.00 |   8 |\n| 3.39 | 4.88 |  9.20 |  13 |\n| 3.58 | 5.67 | 10.88 | 862 |\n| 3.64 | 5.61 | 10.25 |  21 |\n| 4.34 | 6.11 |  2.65 |  91 |\n| 4.80 | 5.48 | 10.34 | 168 |\n| 4.17 | 6.33 |  0.40 |   8 |\n| 3.88 | 5.29 |  3.58 |  42 |\n| 3.63 | 4.86 |  8.22 |  23 |\n| 3.52 | 4.46 | 12.00 |  66 |\n| 3.89 | 5.80 |  3.00 |  14 |\n| 4.56 | 6.09 |  6.05 |  32 |\n| 4.24 | 4.82 |  9.59 |   7 |\n| 4.41 | 6.40 |  4.02 | 134 |\n| 2.63 | 5.21 | 12.00 |  17 |\n| 4.45 | 5.98 |  7.02 | 131 |\n| 4.75 | 5.71 |  8.04 |  82 |\n| 3.56 | 4.75 |  7.91 |  43 |\n| 3.21 | 4.92 |  0.83 |   9 |\n| 4.29 | 5.37 | 10.14 |  43 |\n| 2.21 | 4.09 | 12.00 | 111 |\n| 4.31 | 5.96 |  7.98 |  40 |\n| 4.83 | 5.52 |  8.80 |  88 |\n| 4.09 | 5.72 |  0.00 |   6 |\n| 4.56 | 6.37 |  9.44 | 219 |\n| 3.94 | 5.88 |  5.43 |  38 |\n| 4.00 | 5.59 |  5.29 |  18 |\n\n",
            "text/latex": "A tibble: 74 × 4\n\\begin{tabular}{llll}\n Population & Area & MGS & Langs\\\\\n <dbl> & <dbl> & <dbl> & <dbl>\\\\\n\\hline\n\t 4.41 & 6.38 &  6.60 &  18\\\\\n\t 4.01 & 6.10 &  6.22 &  42\\\\\n\t 4.24 & 6.89 &  6.00 & 234\\\\\n\t 5.07 & 5.16 &  7.40 &  37\\\\\n\t 3.69 & 5.05 &  7.14 &  52\\\\\n\t 3.88 & 6.04 &  6.92 &  38\\\\\n\t 3.13 & 5.76 &  4.60 &  27\\\\\n\t 5.19 & 6.93 &  9.71 & 209\\\\\n\t 3.97 & 5.44 &  5.17 &  75\\\\\n\t 3.50 & 5.79 &  8.08 &  94\\\\\n\t 3.93 & 5.26 &  8.44 &  18\\\\\n\t 4.09 & 5.68 &  9.17 & 275\\\\\n\t 3.76 & 6.11 &  4.00 & 126\\\\\n\t 4.53 & 6.06 & 11.37 &  79\\\\\n\t 3.37 & 5.53 &  9.60 &  60\\\\\n\t 3.49 & 4.71 &  8.92 &  10\\\\\n\t 4.10 & 5.51 &  8.67 &  75\\\\\n\t 4.03 & 5.04 &  7.46 &   1\\\\\n\t 4.04 & 5.45 &  8.14 &  22\\\\\n\t 4.74 & 6.00 &  0.89 &  11\\\\\n\t 4.73 & 6.09 &  7.28 & 112\\\\\n\t 2.01 & 4.95 & 10.40 &  11\\\\\n\t 3.08 & 5.43 &  8.79 &  40\\\\\n\t 4.19 & 5.38 &  8.79 &  73\\\\\n\t 3.98 & 5.04 &  9.31 &  52\\\\\n\t 3.77 & 5.39 &  7.38 &  29\\\\\n\t 2.90 & 5.33 & 12.00 &  14\\\\\n\t 3.72 & 5.05 &  8.54 &   9\\\\\n\t 5.93 & 6.52 &  5.32 & 405\\\\\n\t 5.27 & 6.28 & 10.67 & 701\\\\\n\t ⋮ & ⋮ & ⋮ & ⋮\\\\\n\t 3.60 & 5.11 &  8.13 &   7\\\\\n\t 3.90 & 6.10 &  2.40 &  21\\\\\n\t 5.05 & 5.97 &  7.00 & 427\\\\\n\t 3.19 & 5.33 &  0.00 &   8\\\\\n\t 3.39 & 4.88 &  9.20 &  13\\\\\n\t 3.58 & 5.67 & 10.88 & 862\\\\\n\t 3.64 & 5.61 & 10.25 &  21\\\\\n\t 4.34 & 6.11 &  2.65 &  91\\\\\n\t 4.80 & 5.48 & 10.34 & 168\\\\\n\t 4.17 & 6.33 &  0.40 &   8\\\\\n\t 3.88 & 5.29 &  3.58 &  42\\\\\n\t 3.63 & 4.86 &  8.22 &  23\\\\\n\t 3.52 & 4.46 & 12.00 &  66\\\\\n\t 3.89 & 5.80 &  3.00 &  14\\\\\n\t 4.56 & 6.09 &  6.05 &  32\\\\\n\t 4.24 & 4.82 &  9.59 &   7\\\\\n\t 4.41 & 6.40 &  4.02 & 134\\\\\n\t 2.63 & 5.21 & 12.00 &  17\\\\\n\t 4.45 & 5.98 &  7.02 & 131\\\\\n\t 4.75 & 5.71 &  8.04 &  82\\\\\n\t 3.56 & 4.75 &  7.91 &  43\\\\\n\t 3.21 & 4.92 &  0.83 &   9\\\\\n\t 4.29 & 5.37 & 10.14 &  43\\\\\n\t 2.21 & 4.09 & 12.00 & 111\\\\\n\t 4.31 & 5.96 &  7.98 &  40\\\\\n\t 4.83 & 5.52 &  8.80 &  88\\\\\n\t 4.09 & 5.72 &  0.00 &   6\\\\\n\t 4.56 & 6.37 &  9.44 & 219\\\\\n\t 3.94 & 5.88 &  5.43 &  38\\\\\n\t 4.00 & 5.59 &  5.29 &  18\\\\\n\\end{tabular}\n",
            "text/plain": [
              "   Population Area MGS   Langs\n",
              "1  4.41       6.38  6.60  18  \n",
              "2  4.01       6.10  6.22  42  \n",
              "3  4.24       6.89  6.00 234  \n",
              "4  5.07       5.16  7.40  37  \n",
              "5  3.69       5.05  7.14  52  \n",
              "6  3.88       6.04  6.92  38  \n",
              "7  3.13       5.76  4.60  27  \n",
              "8  5.19       6.93  9.71 209  \n",
              "9  3.97       5.44  5.17  75  \n",
              "10 3.50       5.79  8.08  94  \n",
              "11 3.93       5.26  8.44  18  \n",
              "12 4.09       5.68  9.17 275  \n",
              "13 3.76       6.11  4.00 126  \n",
              "14 4.53       6.06 11.37  79  \n",
              "15 3.37       5.53  9.60  60  \n",
              "16 3.49       4.71  8.92  10  \n",
              "17 4.10       5.51  8.67  75  \n",
              "18 4.03       5.04  7.46   1  \n",
              "19 4.04       5.45  8.14  22  \n",
              "20 4.74       6.00  0.89  11  \n",
              "21 4.73       6.09  7.28 112  \n",
              "22 2.01       4.95 10.40  11  \n",
              "23 3.08       5.43  8.79  40  \n",
              "24 4.19       5.38  8.79  73  \n",
              "25 3.98       5.04  9.31  52  \n",
              "26 3.77       5.39  7.38  29  \n",
              "27 2.90       5.33 12.00  14  \n",
              "28 3.72       5.05  8.54   9  \n",
              "29 5.93       6.52  5.32 405  \n",
              "30 5.27       6.28 10.67 701  \n",
              "⋮  ⋮          ⋮    ⋮     ⋮    \n",
              "45 3.60       5.11  8.13   7  \n",
              "46 3.90       6.10  2.40  21  \n",
              "47 5.05       5.97  7.00 427  \n",
              "48 3.19       5.33  0.00   8  \n",
              "49 3.39       4.88  9.20  13  \n",
              "50 3.58       5.67 10.88 862  \n",
              "51 3.64       5.61 10.25  21  \n",
              "52 4.34       6.11  2.65  91  \n",
              "53 4.80       5.48 10.34 168  \n",
              "54 4.17       6.33  0.40   8  \n",
              "55 3.88       5.29  3.58  42  \n",
              "56 3.63       4.86  8.22  23  \n",
              "57 3.52       4.46 12.00  66  \n",
              "58 3.89       5.80  3.00  14  \n",
              "59 4.56       6.09  6.05  32  \n",
              "60 4.24       4.82  9.59   7  \n",
              "61 4.41       6.40  4.02 134  \n",
              "62 2.63       5.21 12.00  17  \n",
              "63 4.45       5.98  7.02 131  \n",
              "64 4.75       5.71  8.04  82  \n",
              "65 3.56       4.75  7.91  43  \n",
              "66 3.21       4.92  0.83   9  \n",
              "67 4.29       5.37 10.14  43  \n",
              "68 2.21       4.09 12.00 111  \n",
              "69 4.31       5.96  7.98  40  \n",
              "70 4.83       5.52  8.80  88  \n",
              "71 4.09       5.72  0.00   6  \n",
              "72 4.56       6.37  9.44 219  \n",
              "73 3.94       5.88  5.43  38  \n",
              "74 4.00       5.59  5.29  18  "
            ]
          },
          "metadata": {}
        }
      ]
    },
    {
      "cell_type": "code",
      "source": [
        "# to select consecutive columns\n",
        "select(nettle, Area:Langs)"
      ],
      "metadata": {
        "id": "SznEj4qZgOZt"
      },
      "execution_count": null,
      "outputs": []
    },
    {
      "cell_type": "markdown",
      "source": [
        "# rename () function: \n",
        "to change the name of existing columns"
      ],
      "metadata": {
        "id": "8M_VyGl1gVuK"
      }
    },
    {
      "cell_type": "code",
      "source": [
        "nettle <- rename(nettle, Pop = Population)\n",
        "nettle "
      ],
      "metadata": {
        "id": "S8IGnQauge6x"
      },
      "execution_count": null,
      "outputs": []
    },
    {
      "cell_type": "markdown",
      "source": [
        "# mutate () function: \n",
        "to change the content of a tibble. "
      ],
      "metadata": {
        "id": "9nXVWCUFmPjW"
      }
    },
    {
      "cell_type": "code",
      "source": [
        "# this command creates a new columns, \n",
        "# which is specified to be the \"Langs\" column divided by 100\n",
        "nettle <- mutate(nettle, Lang100 = Langs / 100)\n",
        "nettle "
      ],
      "metadata": {
        "id": "8QS56CSOmS_3"
      },
      "execution_count": null,
      "outputs": []
    },
    {
      "cell_type": "markdown",
      "source": [
        "# arrange () function: \n",
        "to order tibble in ascending or descending order."
      ],
      "metadata": {
        "id": "T7InJCtOmZHX"
      }
    },
    {
      "cell_type": "code",
      "source": [
        "# ascending (default)\n",
        "arrange (nettle, Langs) "
      ],
      "metadata": {
        "id": "M2HcDGytmdom"
      },
      "execution_count": null,
      "outputs": []
    },
    {
      "cell_type": "code",
      "source": [
        "# descending\n",
        "arrange (nettle, desc(Langs))"
      ],
      "metadata": {
        "id": "zgiPQjrFmfED"
      },
      "execution_count": null,
      "outputs": []
    },
    {
      "cell_type": "markdown",
      "source": [
        "# ggplot2 package"
      ],
      "metadata": {
        "id": "7astCFzpmhd9"
      }
    },
    {
      "cell_type": "markdown",
      "source": [
        "Nettle (1999) discusses that **linguistic diversity is correlated with climate \n",
        "factors**. The proposal is that countries with lower ecological risk have more\n",
        "different languages than countries with higher ecological risk.\n",
        "\n",
        "Nettle (1999) measured ecological risk by '*mean growing season*' (listed in the \n",
        "**MSG** column).\n",
        "\n",
        "**Langs** = the number of languages\n",
        "**MGS** = the mean growing season "
      ],
      "metadata": {
        "id": "HarMfbuSmvK9"
      }
    },
    {
      "cell_type": "markdown",
      "source": [
        "# Point plot \n",
        "\n",
        "- The first argument of ggplot() function: tibble\n",
        "- geom_point () function adds a point geom to the plot\n",
        "- aes() specifies the 'aesthetic mapping'; which aspect of the data is mapped onto with aspect of the geom"
      ],
      "metadata": {
        "id": "-mvYeiIpm-q1"
      }
    },
    {
      "cell_type": "code",
      "source": [
        "# This code below specifies \"aes\" inside a geom\n",
        "ggplot(nettle) +    \n",
        "  geom_point(mapping = aes (x = MGS, y = Langs))"
      ],
      "metadata": {
        "id": "B9XOe5G4na9a"
      },
      "execution_count": null,
      "outputs": []
    },
    {
      "cell_type": "code",
      "source": [
        "# Paraphrased \n",
        "# This code below specifies \"aes\" inside the main ggplot() function call. \n",
        "ggplot(nettle, aes (x = MGS, y = Langs))+\n",
        "  geom_point()"
      ],
      "metadata": {
        "id": "zlPHTKe2nfXU"
      },
      "execution_count": null,
      "outputs": []
    },
    {
      "cell_type": "markdown",
      "source": [
        "# Text plot"
      ],
      "metadata": {
        "id": "aJV5ds6bnxGR"
      }
    },
    {
      "cell_type": "code",
      "source": [
        "# It needs an additional aesthetic mapping\n",
        "# which column is mapped to the actual text shown in the plot\n",
        "\n",
        "ggplot(nettle, aes (x = MGS, y = Langs, label = Country))+\n",
        "  geom_text()\n",
        "\n",
        "ggsave('nettle.png')"
      ],
      "metadata": {
        "id": "N5TK12bQoHJ1"
      },
      "execution_count": null,
      "outputs": []
    }
  ]
}